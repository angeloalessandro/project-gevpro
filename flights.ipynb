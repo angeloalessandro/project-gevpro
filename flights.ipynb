{
 "cells": [
  {
   "cell_type": "code",
   "execution_count": null,
   "id": "8578721c",
   "metadata": {
    "scrolled": true
   },
   "outputs": [],
   "source": [
    "import seaborn as sns\n",
    "import pandas as pd\n",
    "\n",
    "\n",
    "df = pd.read_csv('flight-info-datasets/airline_passenger_satisfaction.csv')\n",
    "df['Age'] = df['Age'].apply(pd.to_numeric) #convert age to numeric values\n",
    "df = df[df['Age'] >= 18] #select rows with passengers age 18 and over\n",
    "df.shape()"
   ]
  },
  {
   "cell_type": "code",
   "execution_count": null,
   "id": "4f313f7e",
   "metadata": {},
   "outputs": [],
   "source": [
    "#Shaya\n",
    "df[['Check-in Service', 'On-board Service', 'Seat Comfort', 'Cleanliness', 'Satisfaction']]\n"
   ]
  }
 ],
 "metadata": {
  "kernelspec": {
   "display_name": "Python 3 (ipykernel)",
   "language": "python",
   "name": "python3"
  },
  "language_info": {
   "codemirror_mode": {
    "name": "ipython",
    "version": 3
   },
   "file_extension": ".py",
   "mimetype": "text/x-python",
   "name": "python",
   "nbconvert_exporter": "python",
   "pygments_lexer": "ipython3",
   "version": "3.8.10"
  }
 },
 "nbformat": 4,
 "nbformat_minor": 5
}
